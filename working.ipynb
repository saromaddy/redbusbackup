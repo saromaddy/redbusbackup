{
 "cells": [
  {
   "cell_type": "code",
   "execution_count": 1,
   "metadata": {},
   "outputs": [],
   "source": [
    "import pandas as pd"
   ]
  },
  {
   "cell_type": "code",
   "execution_count": null,
   "metadata": {},
   "outputs": [],
   "source": []
  },
  {
   "cell_type": "code",
   "execution_count": 2,
   "metadata": {},
   "outputs": [],
   "source": [
    "df1 = pd.read_csv(\"final_backup.csv\")"
   ]
  },
  {
   "cell_type": "code",
   "execution_count": 3,
   "metadata": {},
   "outputs": [
    {
     "data": {
      "text/html": [
       "<div>\n",
       "<style scoped>\n",
       "    .dataframe tbody tr th:only-of-type {\n",
       "        vertical-align: middle;\n",
       "    }\n",
       "\n",
       "    .dataframe tbody tr th {\n",
       "        vertical-align: top;\n",
       "    }\n",
       "\n",
       "    .dataframe thead th {\n",
       "        text-align: right;\n",
       "    }\n",
       "</style>\n",
       "<table border=\"1\" class=\"dataframe\">\n",
       "  <thead>\n",
       "    <tr style=\"text-align: right;\">\n",
       "      <th></th>\n",
       "      <th>Unnamed: 0</th>\n",
       "      <th>Bus_name</th>\n",
       "      <th>Bus_type</th>\n",
       "      <th>Start_time</th>\n",
       "      <th>End_time</th>\n",
       "      <th>Total_duration</th>\n",
       "      <th>Price</th>\n",
       "      <th>Seats_Available</th>\n",
       "      <th>Ratings</th>\n",
       "      <th>Route_link</th>\n",
       "      <th>Route_name</th>\n",
       "    </tr>\n",
       "  </thead>\n",
       "  <tbody>\n",
       "    <tr>\n",
       "      <th>0</th>\n",
       "      <td>0</td>\n",
       "      <td>APSRTC - 37800</td>\n",
       "      <td>INDRA(A.C. Seater)</td>\n",
       "      <td>00:15</td>\n",
       "      <td>05:45</td>\n",
       "      <td>05h 30m</td>\n",
       "      <td>567.0</td>\n",
       "      <td>34 Seats available</td>\n",
       "      <td>4.0</td>\n",
       "      <td>https://www.redbus.in/bus-tickets/vijayawada-t...</td>\n",
       "      <td>Vijayawada to Hyderabad</td>\n",
       "    </tr>\n",
       "    <tr>\n",
       "      <th>1</th>\n",
       "      <td>1</td>\n",
       "      <td>APSRTC - 24255</td>\n",
       "      <td>INDRA(A.C. Seater)</td>\n",
       "      <td>00:20</td>\n",
       "      <td>04:40</td>\n",
       "      <td>04h 20m</td>\n",
       "      <td>528.0</td>\n",
       "      <td>14 Seats available</td>\n",
       "      <td>1.5</td>\n",
       "      <td>https://www.redbus.in/bus-tickets/vijayawada-t...</td>\n",
       "      <td>Vijayawada to Hyderabad</td>\n",
       "    </tr>\n",
       "    <tr>\n",
       "      <th>2</th>\n",
       "      <td>2</td>\n",
       "      <td>APSRTC - 2677</td>\n",
       "      <td>NIGHT RIDER (SEATER CUM SLEEPER)</td>\n",
       "      <td>00:40</td>\n",
       "      <td>06:15</td>\n",
       "      <td>05h 35m</td>\n",
       "      <td>639.0</td>\n",
       "      <td>34 Seats available</td>\n",
       "      <td>2.5</td>\n",
       "      <td>https://www.redbus.in/bus-tickets/vijayawada-t...</td>\n",
       "      <td>Vijayawada to Hyderabad</td>\n",
       "    </tr>\n",
       "    <tr>\n",
       "      <th>3</th>\n",
       "      <td>3</td>\n",
       "      <td>APSRTC - 2777</td>\n",
       "      <td>INDRA(A.C. Seater)</td>\n",
       "      <td>00:45</td>\n",
       "      <td>06:55</td>\n",
       "      <td>06h 10m</td>\n",
       "      <td>567.0</td>\n",
       "      <td>32 Seats available</td>\n",
       "      <td>2.9</td>\n",
       "      <td>https://www.redbus.in/bus-tickets/vijayawada-t...</td>\n",
       "      <td>Vijayawada to Hyderabad</td>\n",
       "    </tr>\n",
       "    <tr>\n",
       "      <th>4</th>\n",
       "      <td>4</td>\n",
       "      <td>APSRTC - 4919</td>\n",
       "      <td>INDRA(A.C. Seater)</td>\n",
       "      <td>00:45</td>\n",
       "      <td>05:50</td>\n",
       "      <td>05h 05m</td>\n",
       "      <td>567.0</td>\n",
       "      <td>32 Seats available</td>\n",
       "      <td>1.1</td>\n",
       "      <td>https://www.redbus.in/bus-tickets/vijayawada-t...</td>\n",
       "      <td>Vijayawada to Hyderabad</td>\n",
       "    </tr>\n",
       "    <tr>\n",
       "      <th>...</th>\n",
       "      <td>...</td>\n",
       "      <td>...</td>\n",
       "      <td>...</td>\n",
       "      <td>...</td>\n",
       "      <td>...</td>\n",
       "      <td>...</td>\n",
       "      <td>...</td>\n",
       "      <td>...</td>\n",
       "      <td>...</td>\n",
       "      <td>...</td>\n",
       "      <td>...</td>\n",
       "    </tr>\n",
       "    <tr>\n",
       "      <th>9098</th>\n",
       "      <td>9098</td>\n",
       "      <td>SBSTC-BONGAON - DIGHA - VIA - BARASAT - 05:15 ...</td>\n",
       "      <td>Non AC Seater (2+3)</td>\n",
       "      <td>06:30</td>\n",
       "      <td>00:00</td>\n",
       "      <td>17h 30m</td>\n",
       "      <td>159.0</td>\n",
       "      <td>48 Seats available</td>\n",
       "      <td>4.4</td>\n",
       "      <td>https://www.redbus.in/bus-tickets/habra-to-con...</td>\n",
       "      <td>Habra to Contai (Kanthi)</td>\n",
       "    </tr>\n",
       "    <tr>\n",
       "      <th>9099</th>\n",
       "      <td>9099</td>\n",
       "      <td>Santosh Bus Service</td>\n",
       "      <td>A/C Seater Push Back (2+3)</td>\n",
       "      <td>05:10</td>\n",
       "      <td>09:30</td>\n",
       "      <td>04h 20m</td>\n",
       "      <td>416.0</td>\n",
       "      <td>6 Seats available</td>\n",
       "      <td>4.6</td>\n",
       "      <td>https://www.redbus.in/bus-tickets/habra-to-con...</td>\n",
       "      <td>Habra to Contai (Kanthi)</td>\n",
       "    </tr>\n",
       "    <tr>\n",
       "      <th>9100</th>\n",
       "      <td>9100</td>\n",
       "      <td>WBTC (CTC) Habra-Midnapur - 194|05:25</td>\n",
       "      <td>Non AC Seater (2+3)</td>\n",
       "      <td>05:25</td>\n",
       "      <td>09:35</td>\n",
       "      <td>04h 10m</td>\n",
       "      <td>138.0</td>\n",
       "      <td>48 Seats available</td>\n",
       "      <td>4.1</td>\n",
       "      <td>https://www.redbus.in/bus-tickets/habra-to-mid...</td>\n",
       "      <td>Habra to Midnapore</td>\n",
       "    </tr>\n",
       "    <tr>\n",
       "      <th>9101</th>\n",
       "      <td>9101</td>\n",
       "      <td>WBTC (CTC) Habra-Midnapur - 194|05:55</td>\n",
       "      <td>Non AC Seater (2+3)</td>\n",
       "      <td>05:55</td>\n",
       "      <td>10:15</td>\n",
       "      <td>04h 20m</td>\n",
       "      <td>138.0</td>\n",
       "      <td>43 Seats available</td>\n",
       "      <td>4.1</td>\n",
       "      <td>https://www.redbus.in/bus-tickets/habra-to-mid...</td>\n",
       "      <td>Habra to Midnapore</td>\n",
       "    </tr>\n",
       "    <tr>\n",
       "      <th>9102</th>\n",
       "      <td>9102</td>\n",
       "      <td>SBSTC-HABRA - MIDNAPUR - 06:20 (MID DEPOT) - 1398</td>\n",
       "      <td>Non AC Seater (2+3)</td>\n",
       "      <td>06:20</td>\n",
       "      <td>00:00</td>\n",
       "      <td>17h 40m</td>\n",
       "      <td>143.0</td>\n",
       "      <td>49 Seats available</td>\n",
       "      <td>4.6</td>\n",
       "      <td>https://www.redbus.in/bus-tickets/habra-to-mid...</td>\n",
       "      <td>Habra to Midnapore</td>\n",
       "    </tr>\n",
       "  </tbody>\n",
       "</table>\n",
       "<p>9103 rows × 11 columns</p>\n",
       "</div>"
      ],
      "text/plain": [
       "      Unnamed: 0                                           Bus_name  \\\n",
       "0              0                                     APSRTC - 37800   \n",
       "1              1                                     APSRTC - 24255   \n",
       "2              2                                      APSRTC - 2677   \n",
       "3              3                                      APSRTC - 2777   \n",
       "4              4                                      APSRTC - 4919   \n",
       "...          ...                                                ...   \n",
       "9098        9098  SBSTC-BONGAON - DIGHA - VIA - BARASAT - 05:15 ...   \n",
       "9099        9099                                Santosh Bus Service   \n",
       "9100        9100              WBTC (CTC) Habra-Midnapur - 194|05:25   \n",
       "9101        9101              WBTC (CTC) Habra-Midnapur - 194|05:55   \n",
       "9102        9102  SBSTC-HABRA - MIDNAPUR - 06:20 (MID DEPOT) - 1398   \n",
       "\n",
       "                              Bus_type Start_time End_time Total_duration  \\\n",
       "0                   INDRA(A.C. Seater)      00:15    05:45        05h 30m   \n",
       "1                   INDRA(A.C. Seater)      00:20    04:40        04h 20m   \n",
       "2     NIGHT RIDER (SEATER CUM SLEEPER)      00:40    06:15        05h 35m   \n",
       "3                   INDRA(A.C. Seater)      00:45    06:55        06h 10m   \n",
       "4                   INDRA(A.C. Seater)      00:45    05:50        05h 05m   \n",
       "...                                ...        ...      ...            ...   \n",
       "9098               Non AC Seater (2+3)      06:30    00:00        17h 30m   \n",
       "9099        A/C Seater Push Back (2+3)      05:10    09:30        04h 20m   \n",
       "9100               Non AC Seater (2+3)      05:25    09:35        04h 10m   \n",
       "9101               Non AC Seater (2+3)      05:55    10:15        04h 20m   \n",
       "9102               Non AC Seater (2+3)      06:20    00:00        17h 40m   \n",
       "\n",
       "      Price     Seats_Available  Ratings  \\\n",
       "0     567.0  34 Seats available      4.0   \n",
       "1     528.0  14 Seats available      1.5   \n",
       "2     639.0  34 Seats available      2.5   \n",
       "3     567.0  32 Seats available      2.9   \n",
       "4     567.0  32 Seats available      1.1   \n",
       "...     ...                 ...      ...   \n",
       "9098  159.0  48 Seats available      4.4   \n",
       "9099  416.0   6 Seats available      4.6   \n",
       "9100  138.0  48 Seats available      4.1   \n",
       "9101  138.0  43 Seats available      4.1   \n",
       "9102  143.0  49 Seats available      4.6   \n",
       "\n",
       "                                             Route_link  \\\n",
       "0     https://www.redbus.in/bus-tickets/vijayawada-t...   \n",
       "1     https://www.redbus.in/bus-tickets/vijayawada-t...   \n",
       "2     https://www.redbus.in/bus-tickets/vijayawada-t...   \n",
       "3     https://www.redbus.in/bus-tickets/vijayawada-t...   \n",
       "4     https://www.redbus.in/bus-tickets/vijayawada-t...   \n",
       "...                                                 ...   \n",
       "9098  https://www.redbus.in/bus-tickets/habra-to-con...   \n",
       "9099  https://www.redbus.in/bus-tickets/habra-to-con...   \n",
       "9100  https://www.redbus.in/bus-tickets/habra-to-mid...   \n",
       "9101  https://www.redbus.in/bus-tickets/habra-to-mid...   \n",
       "9102  https://www.redbus.in/bus-tickets/habra-to-mid...   \n",
       "\n",
       "                    Route_name  \n",
       "0      Vijayawada to Hyderabad  \n",
       "1      Vijayawada to Hyderabad  \n",
       "2      Vijayawada to Hyderabad  \n",
       "3      Vijayawada to Hyderabad  \n",
       "4      Vijayawada to Hyderabad  \n",
       "...                        ...  \n",
       "9098  Habra to Contai (Kanthi)  \n",
       "9099  Habra to Contai (Kanthi)  \n",
       "9100        Habra to Midnapore  \n",
       "9101        Habra to Midnapore  \n",
       "9102        Habra to Midnapore  \n",
       "\n",
       "[9103 rows x 11 columns]"
      ]
     },
     "execution_count": 3,
     "metadata": {},
     "output_type": "execute_result"
    }
   ],
   "source": [
    "df1"
   ]
  },
  {
   "cell_type": "code",
   "execution_count": 4,
   "metadata": {},
   "outputs": [],
   "source": [
    "df1[['Origin','Destination']] = df1['Route_name'].str.split(\" to \", expand=True)"
   ]
  },
  {
   "cell_type": "code",
   "execution_count": 5,
   "metadata": {},
   "outputs": [
    {
     "data": {
      "text/plain": [
       "['Motihari',\n",
       " 'Badaun',\n",
       " 'Kakinada',\n",
       " 'Mysore',\n",
       " 'Kadapa',\n",
       " 'Kolkata',\n",
       " 'Varanasi',\n",
       " 'Kalpetta (kerala)',\n",
       " 'Kullu',\n",
       " 'Midnapore',\n",
       " 'Ernakulam',\n",
       " 'Ghumarwin',\n",
       " 'Berhampore (West Bengal)',\n",
       " 'Moradabad',\n",
       " 'Chennai',\n",
       " 'Chamba (Himachal Pradesh)',\n",
       " 'Shimla',\n",
       " 'Chittoor (Andhra Pradesh)',\n",
       " 'Moran',\n",
       " 'Vinukonda',\n",
       " 'Barasat (West Bengal)',\n",
       " 'Manali',\n",
       " 'Lucknow',\n",
       " 'Kozhikode',\n",
       " 'Hazaribagh',\n",
       " 'Kothagudem',\n",
       " 'Baddi (Himachal Pradesh)',\n",
       " 'Gohpur',\n",
       " 'Nellore',\n",
       " 'Sikar',\n",
       " 'Patna (Bihar)',\n",
       " 'Ranchi',\n",
       " 'Gopalganj (Bihar)',\n",
       " 'Delhi',\n",
       " 'Kurnool',\n",
       " 'Sitapur (Uttar Pradesh)',\n",
       " 'Darbhanga',\n",
       " 'Bihpuria',\n",
       " 'Kannur',\n",
       " 'Bareilly',\n",
       " 'Agra',\n",
       " 'Karimnagar',\n",
       " 'Rayachoti',\n",
       " 'Kishangarh',\n",
       " 'Kathmandu',\n",
       " 'Farrukhabad (Uttar Pradesh)',\n",
       " 'Kadiri',\n",
       " 'Kanpur (Uttar Pradesh)',\n",
       " 'Hyderabad',\n",
       " 'Hamirpur (Himachal Pradesh)',\n",
       " 'Shahjahanpur (Uttar Pradesh)',\n",
       " 'Goalpara',\n",
       " 'Haflong',\n",
       " 'Jaunpur',\n",
       " 'Thiruvananthapuram',\n",
       " 'Ongole',\n",
       " 'Thrissur',\n",
       " 'Allahabad',\n",
       " 'Solan',\n",
       " 'Durgapur (West Bengal)',\n",
       " 'Bolpur (West Bengal)',\n",
       " 'Jodhpur',\n",
       " 'Coimbatore',\n",
       " 'Jaipur (Rajasthan)',\n",
       " 'Narasaraopet',\n",
       " 'Amalapuram',\n",
       " 'Udaipur',\n",
       " 'Dhubri',\n",
       " 'Palampur',\n",
       " 'Biswanath Charali',\n",
       " 'Haldia',\n",
       " 'North Lakhimpur',\n",
       " 'Balmiki Nagar (bihar)',\n",
       " 'Nagaon (Assam)',\n",
       " 'Dalhousie',\n",
       " 'Dharamshala (Himachal Pradesh)',\n",
       " 'Siliguri',\n",
       " 'Kangra',\n",
       " 'Burdwan',\n",
       " 'Jagityal',\n",
       " 'Muzaffarpur (Bihar)',\n",
       " 'Purnea',\n",
       " 'Kottayam',\n",
       " 'Vijayawada',\n",
       " 'Sibsagar',\n",
       " 'Pali (Rajasthan)',\n",
       " 'Tirupati',\n",
       " 'Tinsukia',\n",
       " 'Jhargram',\n",
       " 'Bettiah',\n",
       " 'Aligarh (uttar pradesh)',\n",
       " 'Bangalore',\n",
       " 'Tezpur',\n",
       " 'Kota(Rajasthan)',\n",
       " 'Guwahati',\n",
       " 'Dhekiajuli',\n",
       " 'Dibrugarh',\n",
       " 'Eluru',\n",
       " 'Purulia',\n",
       " 'Chandigarh',\n",
       " 'Suri',\n",
       " 'Beawar (Rajasthan)',\n",
       " 'Bikaner',\n",
       " 'Jorhat',\n",
       " 'Visakhapatnam',\n",
       " 'Madanapalli',\n",
       " 'Godavarikhani',\n",
       " 'Habra',\n",
       " 'Digha',\n",
       " 'Rajahmundry']"
      ]
     },
     "execution_count": 5,
     "metadata": {},
     "output_type": "execute_result"
    }
   ],
   "source": [
    "origin = list(set(df1['Origin'].to_list()))\n",
    "origin"
   ]
  },
  {
   "cell_type": "code",
   "execution_count": 6,
   "metadata": {},
   "outputs": [
    {
     "data": {
      "text/plain": [
       "['Motihari',\n",
       " 'Badaun',\n",
       " 'Kakinada',\n",
       " 'Anantapur (andhra pradesh)',\n",
       " 'Mysore',\n",
       " 'Kadapa',\n",
       " 'Dehradun',\n",
       " 'Kolkata',\n",
       " 'Nirmal',\n",
       " 'Armoor',\n",
       " 'Varanasi',\n",
       " 'Reckong Peo (Himachal Pradesh)',\n",
       " 'Kalpetta (kerala)',\n",
       " 'Kullu',\n",
       " 'Kirnahar (West Bengal)',\n",
       " 'Contai (Kanthi)',\n",
       " 'Midnapore',\n",
       " 'Ernakulam',\n",
       " 'Mechogram',\n",
       " 'Berhampore (West Bengal)',\n",
       " 'Moradabad',\n",
       " 'Chamba (Himachal Pradesh)',\n",
       " 'Bharatpur',\n",
       " 'Shimla',\n",
       " 'Srisailam',\n",
       " 'Chittoor (Andhra Pradesh)',\n",
       " 'Etah (Uttar Pradesh)',\n",
       " 'Moran',\n",
       " 'Barasat (West Bengal)',\n",
       " 'Manali',\n",
       " 'Lucknow',\n",
       " 'Ayodhya',\n",
       " 'Kozhikode',\n",
       " 'Ajmer',\n",
       " 'Hazaribagh',\n",
       " 'Adilabad',\n",
       " 'Kothagudem',\n",
       " 'Baddi (Himachal Pradesh)',\n",
       " 'Arambagh (West Bengal)',\n",
       " 'Sikar',\n",
       " 'Patna (Bihar)',\n",
       " 'Ranchi',\n",
       " 'Delhi',\n",
       " 'Silchar',\n",
       " 'Janakpur (Nepal)',\n",
       " 'Warangal',\n",
       " 'Kurnool',\n",
       " 'Sitapur (Uttar Pradesh)',\n",
       " 'Jhansi',\n",
       " 'Kolaghat',\n",
       " 'Kannur',\n",
       " 'Saharsa',\n",
       " 'Katihar',\n",
       " 'Bareilly',\n",
       " 'Agra',\n",
       " 'Haridwar',\n",
       " 'Mecheda (West Bengal)',\n",
       " 'Karimnagar',\n",
       " 'Raxaul',\n",
       " 'Futishanko',\n",
       " 'Kathmandu',\n",
       " 'Farrukhabad (Uttar Pradesh)',\n",
       " 'Kanpur (Uttar Pradesh)',\n",
       " 'Hyderabad',\n",
       " 'Nandakumar (west bengal)',\n",
       " 'Kotdwar (Uttarakhand)',\n",
       " 'Hamirpur (Himachal Pradesh)',\n",
       " 'Shahjahanpur (Uttar Pradesh)',\n",
       " 'Haflong',\n",
       " 'Bhadrachalam',\n",
       " 'Jaunpur',\n",
       " 'Thiruvananthapuram',\n",
       " 'Ongole',\n",
       " 'Thrissur',\n",
       " 'Allahabad',\n",
       " 'Solan',\n",
       " 'Durgapur (West Bengal)',\n",
       " 'Malda',\n",
       " 'Bolpur (West Bengal)',\n",
       " 'Jodhpur',\n",
       " 'Bajkul (West Bengal)',\n",
       " 'Azamgarh',\n",
       " 'Jaipur (Rajasthan)',\n",
       " 'Asansol (West Bengal)',\n",
       " 'Amalapuram',\n",
       " 'Udaipur',\n",
       " 'Dhubri',\n",
       " 'Palampur',\n",
       " 'Haldwani',\n",
       " 'Chandipur (West Bengal)',\n",
       " 'Biswanath Charali',\n",
       " 'Haldia',\n",
       " 'North Lakhimpur',\n",
       " 'Balmiki Nagar (bihar)',\n",
       " 'Nagaon (Assam)',\n",
       " 'Dalhousie',\n",
       " 'Dharamshala (Himachal Pradesh)',\n",
       " 'Siliguri',\n",
       " 'Kangra',\n",
       " 'Burdwan',\n",
       " 'Muzaffarpur (Bihar)',\n",
       " 'Purnea',\n",
       " 'Kottayam',\n",
       " 'Gorakhpur (uttar pradesh)',\n",
       " 'Vijayawada',\n",
       " 'Sibsagar',\n",
       " 'Ooty',\n",
       " 'Pali (Rajasthan)',\n",
       " 'Bhilwara',\n",
       " 'Tirupati',\n",
       " None,\n",
       " 'Tinsukia',\n",
       " 'Bettiah',\n",
       " 'Bankura',\n",
       " 'Digha',\n",
       " 'Sarkaghat',\n",
       " 'Aligarh (uttar pradesh)',\n",
       " 'Bangalore',\n",
       " 'Debra',\n",
       " 'Heria',\n",
       " 'Tezpur',\n",
       " 'Kota(Rajasthan)',\n",
       " 'Pilani',\n",
       " 'Guwahati',\n",
       " 'Dibrugarh',\n",
       " 'Mancherial',\n",
       " 'Nimtouri',\n",
       " 'Purulia',\n",
       " 'Chandigarh',\n",
       " 'Suri',\n",
       " 'Beawar (Rajasthan)',\n",
       " 'Bikaner',\n",
       " 'Jorhat',\n",
       " 'Visakhapatnam',\n",
       " 'Nalagarh',\n",
       " 'Araria (Bihar)',\n",
       " 'Ramnagar (West Bengal)',\n",
       " 'Madanapalli',\n",
       " 'Godavarikhani',\n",
       " 'Ballia',\n",
       " 'Habra',\n",
       " 'Mathura',\n",
       " 'Rajahmundry']"
      ]
     },
     "execution_count": 6,
     "metadata": {},
     "output_type": "execute_result"
    }
   ],
   "source": [
    "Destination = list(set(df1['Destination'].to_list()))\n",
    "Destination"
   ]
  },
  {
   "cell_type": "code",
   "execution_count": 10,
   "metadata": {},
   "outputs": [],
   "source": [
    "data = {\n",
    "    \"Origin\": origin\n",
    "}"
   ]
  },
  {
   "cell_type": "code",
   "execution_count": 12,
   "metadata": {},
   "outputs": [
    {
     "data": {
      "text/html": [
       "<div>\n",
       "<style scoped>\n",
       "    .dataframe tbody tr th:only-of-type {\n",
       "        vertical-align: middle;\n",
       "    }\n",
       "\n",
       "    .dataframe tbody tr th {\n",
       "        vertical-align: top;\n",
       "    }\n",
       "\n",
       "    .dataframe thead th {\n",
       "        text-align: right;\n",
       "    }\n",
       "</style>\n",
       "<table border=\"1\" class=\"dataframe\">\n",
       "  <thead>\n",
       "    <tr style=\"text-align: right;\">\n",
       "      <th></th>\n",
       "      <th>Origin</th>\n",
       "    </tr>\n",
       "  </thead>\n",
       "  <tbody>\n",
       "    <tr>\n",
       "      <th>0</th>\n",
       "      <td>Motihari</td>\n",
       "    </tr>\n",
       "    <tr>\n",
       "      <th>1</th>\n",
       "      <td>Badaun</td>\n",
       "    </tr>\n",
       "    <tr>\n",
       "      <th>2</th>\n",
       "      <td>Kakinada</td>\n",
       "    </tr>\n",
       "    <tr>\n",
       "      <th>3</th>\n",
       "      <td>Mysore</td>\n",
       "    </tr>\n",
       "    <tr>\n",
       "      <th>4</th>\n",
       "      <td>Kadapa</td>\n",
       "    </tr>\n",
       "    <tr>\n",
       "      <th>...</th>\n",
       "      <td>...</td>\n",
       "    </tr>\n",
       "    <tr>\n",
       "      <th>105</th>\n",
       "      <td>Madanapalli</td>\n",
       "    </tr>\n",
       "    <tr>\n",
       "      <th>106</th>\n",
       "      <td>Godavarikhani</td>\n",
       "    </tr>\n",
       "    <tr>\n",
       "      <th>107</th>\n",
       "      <td>Habra</td>\n",
       "    </tr>\n",
       "    <tr>\n",
       "      <th>108</th>\n",
       "      <td>Digha</td>\n",
       "    </tr>\n",
       "    <tr>\n",
       "      <th>109</th>\n",
       "      <td>Rajahmundry</td>\n",
       "    </tr>\n",
       "  </tbody>\n",
       "</table>\n",
       "<p>110 rows × 1 columns</p>\n",
       "</div>"
      ],
      "text/plain": [
       "            Origin\n",
       "0         Motihari\n",
       "1           Badaun\n",
       "2         Kakinada\n",
       "3           Mysore\n",
       "4           Kadapa\n",
       "..             ...\n",
       "105    Madanapalli\n",
       "106  Godavarikhani\n",
       "107          Habra\n",
       "108          Digha\n",
       "109    Rajahmundry\n",
       "\n",
       "[110 rows x 1 columns]"
      ]
     },
     "execution_count": 12,
     "metadata": {},
     "output_type": "execute_result"
    }
   ],
   "source": [
    "origin_df = pd.DataFrame(data)\n",
    "origin_df"
   ]
  },
  {
   "cell_type": "code",
   "execution_count": 18,
   "metadata": {},
   "outputs": [],
   "source": [
    "origin_df.to_csv(\"origin.csv\", index= False)"
   ]
  },
  {
   "cell_type": "code",
   "execution_count": 13,
   "metadata": {},
   "outputs": [],
   "source": [
    "data = {\n",
    "    \"Destination\": Destination\n",
    "}"
   ]
  },
  {
   "cell_type": "code",
   "execution_count": 14,
   "metadata": {},
   "outputs": [],
   "source": [
    "Destination_df = pd.DataFrame(data)"
   ]
  },
  {
   "cell_type": "code",
   "execution_count": 19,
   "metadata": {},
   "outputs": [],
   "source": [
    "Destination_df.to_csv(\"destination.csv\", index= False)"
   ]
  },
  {
   "cell_type": "code",
   "execution_count": 1,
   "metadata": {},
   "outputs": [],
   "source": [
    "#importing libraries\n",
    "from selenium import webdriver\n",
    "from selenium.webdriver import ActionChains\n",
    "from selenium.webdriver.common.by import By\n",
    "from selenium.webdriver.common.keys import Keys\n",
    "from selenium.common.exceptions import TimeoutException, NoSuchElementException\n",
    "import time\n",
    "from selenium.webdriver.support.ui import WebDriverWait\n",
    "from selenium.webdriver.support import expected_conditions as EC\n",
    "import pandas as pd"
   ]
  },
  {
   "cell_type": "code",
   "execution_count": null,
   "metadata": {},
   "outputs": [],
   "source": [
    "def extract_and_click_routes(driver):\n",
    "    # Navigate to the state URL\n",
    "    scroll_and_load(driver)\n",
    "    routelink=[]\n",
    "    routename=[]\n",
    "    statelinks = [\n",
    "        'https://www.redbus.in/online-booking/apsrtc/?utm_source=rtchometile',\n",
    "        'https://www.redbus.in/online-booking/ksrtc-kerala/?utm_source=rtchometile',\n",
    "        'https://www.redbus.in/online-booking/tsrtc/?utm_source=rtchometile',\n",
    "        'https://www.redbus.in/online-booking/bihar-state-road-transport-corporation-bsrtc/?utm_source=rtchometile',\n",
    "        'https://www.redbus.in/online-booking/rsrtc/?utm_source=rtchometile',\n",
    "        'https://www.redbus.in/online-booking/south-bengal-state-transport-corporation-sbstc/?utm_source=rtchometile',\n",
    "        'https://www.redbus.in/online-booking/hrtc/?utm_source=rtchometile',\n",
    "        'https://www.redbus.in/online-booking/astc/?utm_source=rtchometile',\n",
    "        'https://www.redbus.in/online-booking/uttar-pradesh-state-road-transport-corporation-upsrtc/?utm_source=rtchometile',\n",
    "        'https://www.redbus.in/online-booking/wbtc-ctc/?utm_source=rtchometile'\n",
    "    ]\n",
    " \n",
    "    driver.get(statelinks[0])    \n",
    "        # Click the first route link\n",
    "    first_route = statelinks[0]\n",
    "    first_route_link = first_route.find_element(By.XPATH, \".//a[@class='route']\").get_attribute('href')\n",
    "    first_route_name = first_route.find_element(By.XPATH, \".//a[@class='route']\").text\n",
    "        \n",
    "    print(f\"Clicking Route: {first_route_name}\")\n",
    "    print(f\"Route Link: {first_route_link}\")\n",
    "        \n",
    "    first_route.find_element(By.XPATH, \".//a[@class='route']\").click()\n",
    "\n",
    "    routename.append(first_route_name)\n",
    "    routelink.append(first_route_link)"
   ]
  },
  {
   "cell_type": "code",
   "execution_count": 2,
   "metadata": {},
   "outputs": [
    {
     "name": "stderr",
     "output_type": "stream",
     "text": [
      "The chromedriver version (126.0.6478.182) detected in PATH at /usr/local/bin/chromedriver might not be compatible with the detected chrome version (127.0.6533.89); currently, chromedriver 127.0.6533.99 is recommended for chrome 127.*, so it is advised to delete the driver in PATH and retry\n"
     ]
    }
   ],
   "source": [
    "driver=webdriver.Chrome()"
   ]
  },
  {
   "cell_type": "code",
   "execution_count": 5,
   "metadata": {},
   "outputs": [],
   "source": [
    "driver.quit()"
   ]
  },
  {
   "cell_type": "code",
   "execution_count": 2,
   "metadata": {},
   "outputs": [],
   "source": [
    "statelinks = [\n",
    "        'https://www.redbus.in/online-booking/apsrtc/?utm_source=rtchometile',\n",
    "        'https://www.redbus.in/online-booking/ksrtc-kerala/?utm_source=rtchometile',\n",
    "        'https://www.redbus.in/online-booking/tsrtc/?utm_source=rtchometile',\n",
    "        'https://www.redbus.in/online-booking/bihar-state-road-transport-corporation-bsrtc/?utm_source=rtchometile',\n",
    "        'https://www.redbus.in/online-booking/rsrtc/?utm_source=rtchometile',\n",
    "        'https://www.redbus.in/online-booking/south-bengal-state-transport-corporation-sbstc/?utm_source=rtchometile',\n",
    "        'https://www.redbus.in/online-booking/hrtc/?utm_source=rtchometile',\n",
    "        'https://www.redbus.in/online-booking/astc/?utm_source=rtchometile',\n",
    "        'https://www.redbus.in/online-booking/uttar-pradesh-state-road-transport-corporation-upsrtc/?utm_source=rtchometile',\n",
    "        'https://www.redbus.in/online-booking/wbtc-ctc/?utm_source=rtchometile'\n",
    "    ]"
   ]
  },
  {
   "cell_type": "code",
   "execution_count": 3,
   "metadata": {},
   "outputs": [
    {
     "name": "stderr",
     "output_type": "stream",
     "text": [
      "The chromedriver version (126.0.6478.182) detected in PATH at /usr/local/bin/chromedriver might not be compatible with the detected chrome version (127.0.6533.89); currently, chromedriver 127.0.6533.99 is recommended for chrome 127.*, so it is advised to delete the driver in PATH and retry\n"
     ]
    }
   ],
   "source": [
    "driver = webdriver.Chrome()\n",
    "driver.get(statelinks[0])\n"
   ]
  },
  {
   "cell_type": "code",
   "execution_count": 4,
   "metadata": {},
   "outputs": [],
   "source": [
    "time.sleep(2)\n",
    "first_routes = driver.find_elements(By.XPATH, \"//a[@class='route']\")\n"
   ]
  },
  {
   "cell_type": "code",
   "execution_count": 6,
   "metadata": {},
   "outputs": [],
   "source": [
    "links = []\n",
    "routes = []\n"
   ]
  },
  {
   "cell_type": "code",
   "execution_count": 14,
   "metadata": {},
   "outputs": [
    {
     "data": {
      "text/plain": [
       "[<selenium.webdriver.remote.webelement.WebElement (session=\"86b132c5b45abf026cbec13581c763ac\", element=\"f.F83786EC50F8E3D33D1A09DC70320B5A.d.A4AFE4985F2AB8755704182EB1E63C8E.e.281\")>,\n",
       " <selenium.webdriver.remote.webelement.WebElement (session=\"86b132c5b45abf026cbec13581c763ac\", element=\"f.F83786EC50F8E3D33D1A09DC70320B5A.d.A4AFE4985F2AB8755704182EB1E63C8E.e.400\")>,\n",
       " <selenium.webdriver.remote.webelement.WebElement (session=\"86b132c5b45abf026cbec13581c763ac\", element=\"f.F83786EC50F8E3D33D1A09DC70320B5A.d.A4AFE4985F2AB8755704182EB1E63C8E.e.520\")>,\n",
       " <selenium.webdriver.remote.webelement.WebElement (session=\"86b132c5b45abf026cbec13581c763ac\", element=\"f.F83786EC50F8E3D33D1A09DC70320B5A.d.A4AFE4985F2AB8755704182EB1E63C8E.e.640\")>,\n",
       " <selenium.webdriver.remote.webelement.WebElement (session=\"86b132c5b45abf026cbec13581c763ac\", element=\"f.F83786EC50F8E3D33D1A09DC70320B5A.d.A4AFE4985F2AB8755704182EB1E63C8E.e.760\")>,\n",
       " <selenium.webdriver.remote.webelement.WebElement (session=\"86b132c5b45abf026cbec13581c763ac\", element=\"f.F83786EC50F8E3D33D1A09DC70320B5A.d.A4AFE4985F2AB8755704182EB1E63C8E.e.880\")>,\n",
       " <selenium.webdriver.remote.webelement.WebElement (session=\"86b132c5b45abf026cbec13581c763ac\", element=\"f.F83786EC50F8E3D33D1A09DC70320B5A.d.A4AFE4985F2AB8755704182EB1E63C8E.e.1000\")>,\n",
       " <selenium.webdriver.remote.webelement.WebElement (session=\"86b132c5b45abf026cbec13581c763ac\", element=\"f.F83786EC50F8E3D33D1A09DC70320B5A.d.A4AFE4985F2AB8755704182EB1E63C8E.e.1120\")>,\n",
       " <selenium.webdriver.remote.webelement.WebElement (session=\"86b132c5b45abf026cbec13581c763ac\", element=\"f.F83786EC50F8E3D33D1A09DC70320B5A.d.A4AFE4985F2AB8755704182EB1E63C8E.e.1240\")>,\n",
       " <selenium.webdriver.remote.webelement.WebElement (session=\"86b132c5b45abf026cbec13581c763ac\", element=\"f.F83786EC50F8E3D33D1A09DC70320B5A.d.A4AFE4985F2AB8755704182EB1E63C8E.e.1360\")>]"
      ]
     },
     "execution_count": 14,
     "metadata": {},
     "output_type": "execute_result"
    }
   ],
   "source": [
    "first_routes"
   ]
  },
  {
   "cell_type": "code",
   "execution_count": 7,
   "metadata": {},
   "outputs": [],
   "source": [
    "for href in first_routes:\n",
    "    d = href.get_attribute(\"href\")\n",
    "    links.append(d)\n",
    "\n",
    "for route in first_routes:\n",
    "    routes.append(route.text)"
   ]
  },
  {
   "cell_type": "code",
   "execution_count": 8,
   "metadata": {},
   "outputs": [
    {
     "data": {
      "text/plain": [
       "['https://www.redbus.in/bus-tickets/vijayawada-to-hyderabad',\n",
       " 'https://www.redbus.in/bus-tickets/hyderabad-to-vijayawada',\n",
       " 'https://www.redbus.in/bus-tickets/kakinada-to-visakhapatnam',\n",
       " 'https://www.redbus.in/bus-tickets/visakhapatnam-to-kakinada',\n",
       " 'https://www.redbus.in/bus-tickets/chittoor-andhra-pradesh-to-bangalore',\n",
       " 'https://www.redbus.in/bus-tickets/kadapa-to-bangalore',\n",
       " 'https://www.redbus.in/bus-tickets/ananthapur-to-bangalore',\n",
       " 'https://www.redbus.in/bus-tickets/tirupathi-to-bangalore',\n",
       " 'https://www.redbus.in/bus-tickets/visakhapatnam-to-vijayawada',\n",
       " 'https://www.redbus.in/bus-tickets/ongole-to-hyderabad']"
      ]
     },
     "execution_count": 8,
     "metadata": {},
     "output_type": "execute_result"
    }
   ],
   "source": [
    "links"
   ]
  },
  {
   "cell_type": "code",
   "execution_count": 9,
   "metadata": {},
   "outputs": [
    {
     "data": {
      "text/plain": [
       "['Vijayawada to Hyderabad',\n",
       " 'Hyderabad to Vijayawada',\n",
       " 'Kakinada to Visakhapatnam',\n",
       " 'Visakhapatnam to Kakinada',\n",
       " 'Chittoor (Andhra Pradesh) to Bangalore',\n",
       " 'Kadapa to Bangalore',\n",
       " 'Anantapur (andhra pradesh) to Bangalore',\n",
       " 'Tirupati to Bangalore',\n",
       " 'Visakhapatnam to Vijayawada',\n",
       " 'Ongole to Hyderabad']"
      ]
     },
     "execution_count": 9,
     "metadata": {},
     "output_type": "execute_result"
    }
   ],
   "source": [
    "routes"
   ]
  },
  {
   "cell_type": "code",
   "execution_count": 10,
   "metadata": {},
   "outputs": [
    {
     "ename": "NameError",
     "evalue": "name 'wait' is not defined",
     "output_type": "error",
     "traceback": [
      "\u001b[0;31m---------------------------------------------------------------------------\u001b[0m",
      "\u001b[0;31mNameError\u001b[0m                                 Traceback (most recent call last)",
      "Cell \u001b[0;32mIn[10], line 3\u001b[0m\n\u001b[1;32m      1\u001b[0m \u001b[38;5;28;01mtry\u001b[39;00m:\n\u001b[1;32m      2\u001b[0m     \u001b[38;5;66;03m# Wait for the pagination element to be present\u001b[39;00m\n\u001b[0;32m----> 3\u001b[0m     pagination \u001b[38;5;241m=\u001b[39m \u001b[43mwait\u001b[49m\u001b[38;5;241m.\u001b[39muntil(EC\u001b[38;5;241m.\u001b[39mpresence_of_element_located((By\u001b[38;5;241m.\u001b[39mXPATH, \u001b[38;5;124m'\u001b[39m\u001b[38;5;124m//*[@class=\u001b[39m\u001b[38;5;124m\"\u001b[39m\u001b[38;5;124mDC_117_paginationTable\u001b[39m\u001b[38;5;124m\"\u001b[39m\u001b[38;5;124m]\u001b[39m\u001b[38;5;124m'\u001b[39m)))\n\u001b[1;32m      4\u001b[0m     next_button \u001b[38;5;241m=\u001b[39m pagination\u001b[38;5;241m.\u001b[39mfind_element(By\u001b[38;5;241m.\u001b[39mXPATH, \u001b[38;5;124mf\u001b[39m\u001b[38;5;124m'\u001b[39m\u001b[38;5;124m//div[@class=\u001b[39m\u001b[38;5;124m\"\u001b[39m\u001b[38;5;124mDC_117_pageTabs \u001b[39m\u001b[38;5;124m\"\u001b[39m\u001b[38;5;124m and text()=\u001b[39m\u001b[38;5;132;01m{\u001b[39;00mi\u001b[38;5;241m+\u001b[39m\u001b[38;5;241m1\u001b[39m\u001b[38;5;132;01m}\u001b[39;00m\u001b[38;5;124m]\u001b[39m\u001b[38;5;124m'\u001b[39m)\n\u001b[1;32m      5\u001b[0m     driver\u001b[38;5;241m.\u001b[39mexecute_script(\u001b[38;5;124m\"\u001b[39m\u001b[38;5;124marguments[0].scrollIntoView();\u001b[39m\u001b[38;5;124m\"\u001b[39m, next_button)\n",
      "\u001b[0;31mNameError\u001b[0m: name 'wait' is not defined"
     ]
    }
   ],
   "source": [
    "wait = WebDriverWait(driver, 20)\n",
    "\n",
    "pagination = wait.until(EC.presence_of_element_located((By.XPATH, '//*[@class=\"DC_117_paginationTable\"]')))\n",
    "print(pagination)\n",
    "next_button = pagination.find_element(By.XPATH, f'//div[@class=\"DC_117_pageTabs \" and text()={i+1}]')\n",
    "driver.execute_script(\"arguments[0].scrollIntoView();\", next_button)\n",
    "time.sleep(3)\n",
    "next_button.click()\n",
    "            \n",
    "\n"
   ]
  },
  {
   "cell_type": "code",
   "execution_count": 11,
   "metadata": {},
   "outputs": [],
   "source": [
    "pagination_elements = driver.find_elements(By.XPATH,'//*[@class=\"DC_117_paginationTable\"]')"
   ]
  },
  {
   "cell_type": "code",
   "execution_count": 17,
   "metadata": {},
   "outputs": [
    {
     "data": {
      "text/plain": [
       "'1\\n2\\n3\\n4\\n5'"
      ]
     },
     "execution_count": 17,
     "metadata": {},
     "output_type": "execute_result"
    }
   ],
   "source": [
    "pagination_elements[0].text"
   ]
  },
  {
   "cell_type": "code",
   "execution_count": 58,
   "metadata": {},
   "outputs": [],
   "source": [
    "def pagination_scroll(j):\n",
    "    try:\n",
    "        # Wait for the pagination element to be present\n",
    "        pagination = driver.find_element(By.XPATH, '//*[@class=\"DC_117_paginationTable\"]')\n",
    "        next_button = pagination.find_element(By.XPATH, f'//div[@class=\"DC_117_pageTabs \" and text()={j+1}]')\n",
    "        driver.execute_script(\"arguments[0].scrollIntoView();\", next_button)\n",
    "        time.sleep(3)\n",
    "        next_button.click()\n",
    "    except NoSuchElementException:\n",
    "        return None"
   ]
  },
  {
   "cell_type": "code",
   "execution_count": 24,
   "metadata": {},
   "outputs": [],
   "source": [
    "def extract_and_click_routes():\n",
    "    # Navigate to the state URL\n",
    "    routelink=[]\n",
    "    routename=[]\n",
    "    statelinks = [\n",
    "        'https://www.redbus.in/online-booking/apsrtc/?utm_source=rtchometile',\n",
    "        'https://www.redbus.in/online-booking/ksrtc-kerala/?utm_source=rtchometile',\n",
    "        'https://www.redbus.in/online-booking/tsrtc/?utm_source=rtchometile',\n",
    "        'https://www.redbus.in/online-booking/bihar-state-road-transport-corporation-bsrtc/?utm_source=rtchometile',\n",
    "        'https://www.redbus.in/online-booking/rsrtc/?utm_source=rtchometile',\n",
    "        'https://www.redbus.in/online-booking/south-bengal-state-transport-corporation-sbstc/?utm_source=rtchometile',\n",
    "        'https://www.redbus.in/online-booking/hrtc/?utm_source=rtchometile',\n",
    "        'https://www.redbus.in/online-booking/astc/?utm_source=rtchometile',\n",
    "        'https://www.redbus.in/online-booking/uttar-pradesh-state-road-transport-corporation-upsrtc/?utm_source=rtchometile',\n",
    "        'https://www.redbus.in/online-booking/wbtc-ctc/?utm_source=rtchometile'\n",
    "    ]\n",
    "    links = []\n",
    "    routes = []\n",
    "    # for i in statelinks:\n",
    "    #     driver.get(i) \n",
    "    driver.get(statelinks[0])    \n",
    "        # Click the first route link\n",
    "    time.sleep(2)\n",
    "    first_route = statelinks[0]\n",
    "    first_routes = driver.find_elements(By.XPATH, \"//a[@class='route']\")\n",
    "\n",
    "    pagination_scroll()\n",
    "\n",
    "    for href in first_routes:\n",
    "        d = href.get_attribute(\"href\")\n",
    "        links.append(d)\n",
    "\n",
    "    for route in first_routes:\n",
    "        routes.append(route.text)\n",
    "\n",
    "    return links,routes"
   ]
  },
  {
   "cell_type": "code",
   "execution_count": 72,
   "metadata": {},
   "outputs": [],
   "source": [
    "driver.quit()"
   ]
  },
  {
   "cell_type": "code",
   "execution_count": 79,
   "metadata": {},
   "outputs": [
    {
     "ename": "ElementClickInterceptedException",
     "evalue": "Message: element click intercepted: Element is not clickable at point (560, 2097)\n  (Session info: chrome=127.0.6533.89)\nStacktrace:\n0   chromedriver                        0x00000001030c6a0c chromedriver + 4385292\n1   chromedriver                        0x00000001030bf318 chromedriver + 4354840\n2   chromedriver                        0x0000000102cdcb0c chromedriver + 281356\n3   chromedriver                        0x0000000102d24ce0 chromedriver + 576736\n4   chromedriver                        0x0000000102d23284 chromedriver + 569988\n5   chromedriver                        0x0000000102d21414 chromedriver + 562196\n6   chromedriver                        0x0000000102d205b0 chromedriver + 558512\n7   chromedriver                        0x0000000102d15cfc chromedriver + 515324\n8   chromedriver                        0x0000000102d15734 chromedriver + 513844\n9   chromedriver                        0x0000000102d57d24 chromedriver + 785700\n10  chromedriver                        0x0000000102d13eec chromedriver + 507628\n11  chromedriver                        0x0000000102d148c4 chromedriver + 510148\n12  chromedriver                        0x000000010308e3c8 chromedriver + 4154312\n13  chromedriver                        0x0000000103092e2c chromedriver + 4173356\n14  chromedriver                        0x0000000103073f84 chromedriver + 4046724\n15  chromedriver                        0x0000000103093718 chromedriver + 4175640\n16  chromedriver                        0x0000000103066f44 chromedriver + 3993412\n17  chromedriver                        0x00000001030b11a8 chromedriver + 4297128\n18  chromedriver                        0x00000001030b1324 chromedriver + 4297508\n19  chromedriver                        0x00000001030bef10 chromedriver + 4353808\n20  libsystem_pthread.dylib             0x0000000186f722e4 _pthread_start + 136\n21  libsystem_pthread.dylib             0x0000000186f6d0fc thread_start + 8\n",
     "output_type": "error",
     "traceback": [
      "\u001b[0;31m---------------------------------------------------------------------------\u001b[0m",
      "\u001b[0;31mElementClickInterceptedException\u001b[0m          Traceback (most recent call last)",
      "Cell \u001b[0;32mIn[79], line 1\u001b[0m\n\u001b[0;32m----> 1\u001b[0m checklink,check_route \u001b[38;5;241m=\u001b[39m \u001b[43mextract_and_click_routes\u001b[49m\u001b[43m(\u001b[49m\u001b[43m)\u001b[49m\n",
      "Cell \u001b[0;32mIn[75], line 31\u001b[0m, in \u001b[0;36mextract_and_click_routes\u001b[0;34m()\u001b[0m\n\u001b[1;32m     29\u001b[0m         \u001b[38;5;28;01mexcept\u001b[39;00m NoSuchElementException:\n\u001b[1;32m     30\u001b[0m             \u001b[38;5;28mprint\u001b[39m(\u001b[38;5;124mf\u001b[39m\u001b[38;5;124m\"\u001b[39m\u001b[38;5;124mstopped\u001b[39m\u001b[38;5;124m\"\u001b[39m)\n\u001b[0;32m---> 31\u001b[0m         \u001b[43mpagination_scroll\u001b[49m\u001b[43m(\u001b[49m\u001b[43mj\u001b[49m\u001b[43m)\u001b[49m\n\u001b[1;32m     33\u001b[0m \u001b[38;5;28;01mreturn\u001b[39;00m links,routes\n",
      "Cell \u001b[0;32mIn[58], line 8\u001b[0m, in \u001b[0;36mpagination_scroll\u001b[0;34m(j)\u001b[0m\n\u001b[1;32m      6\u001b[0m     driver\u001b[38;5;241m.\u001b[39mexecute_script(\u001b[38;5;124m\"\u001b[39m\u001b[38;5;124marguments[0].scrollIntoView();\u001b[39m\u001b[38;5;124m\"\u001b[39m, next_button)\n\u001b[1;32m      7\u001b[0m     time\u001b[38;5;241m.\u001b[39msleep(\u001b[38;5;241m3\u001b[39m)\n\u001b[0;32m----> 8\u001b[0m     \u001b[43mnext_button\u001b[49m\u001b[38;5;241;43m.\u001b[39;49m\u001b[43mclick\u001b[49m\u001b[43m(\u001b[49m\u001b[43m)\u001b[49m\n\u001b[1;32m     10\u001b[0m \u001b[38;5;28;01mexcept\u001b[39;00m NoSuchElementException:\n\u001b[1;32m     11\u001b[0m     \u001b[38;5;28;01mreturn\u001b[39;00m \u001b[38;5;28;01mNone\u001b[39;00m\n",
      "File \u001b[0;32m~/Library/Python/3.9/lib/python/site-packages/selenium/webdriver/remote/webelement.py:94\u001b[0m, in \u001b[0;36mWebElement.click\u001b[0;34m(self)\u001b[0m\n\u001b[1;32m     92\u001b[0m \u001b[38;5;28;01mdef\u001b[39;00m \u001b[38;5;21mclick\u001b[39m(\u001b[38;5;28mself\u001b[39m) \u001b[38;5;241m-\u001b[39m\u001b[38;5;241m>\u001b[39m \u001b[38;5;28;01mNone\u001b[39;00m:\n\u001b[1;32m     93\u001b[0m \u001b[38;5;250m    \u001b[39m\u001b[38;5;124;03m\"\"\"Clicks the element.\"\"\"\u001b[39;00m\n\u001b[0;32m---> 94\u001b[0m     \u001b[38;5;28;43mself\u001b[39;49m\u001b[38;5;241;43m.\u001b[39;49m\u001b[43m_execute\u001b[49m\u001b[43m(\u001b[49m\u001b[43mCommand\u001b[49m\u001b[38;5;241;43m.\u001b[39;49m\u001b[43mCLICK_ELEMENT\u001b[49m\u001b[43m)\u001b[49m\n",
      "File \u001b[0;32m~/Library/Python/3.9/lib/python/site-packages/selenium/webdriver/remote/webelement.py:395\u001b[0m, in \u001b[0;36mWebElement._execute\u001b[0;34m(self, command, params)\u001b[0m\n\u001b[1;32m    393\u001b[0m     params \u001b[38;5;241m=\u001b[39m {}\n\u001b[1;32m    394\u001b[0m params[\u001b[38;5;124m\"\u001b[39m\u001b[38;5;124mid\u001b[39m\u001b[38;5;124m\"\u001b[39m] \u001b[38;5;241m=\u001b[39m \u001b[38;5;28mself\u001b[39m\u001b[38;5;241m.\u001b[39m_id\n\u001b[0;32m--> 395\u001b[0m \u001b[38;5;28;01mreturn\u001b[39;00m \u001b[38;5;28;43mself\u001b[39;49m\u001b[38;5;241;43m.\u001b[39;49m\u001b[43m_parent\u001b[49m\u001b[38;5;241;43m.\u001b[39;49m\u001b[43mexecute\u001b[49m\u001b[43m(\u001b[49m\u001b[43mcommand\u001b[49m\u001b[43m,\u001b[49m\u001b[43m \u001b[49m\u001b[43mparams\u001b[49m\u001b[43m)\u001b[49m\n",
      "File \u001b[0;32m~/Library/Python/3.9/lib/python/site-packages/selenium/webdriver/remote/webdriver.py:354\u001b[0m, in \u001b[0;36mWebDriver.execute\u001b[0;34m(self, driver_command, params)\u001b[0m\n\u001b[1;32m    352\u001b[0m response \u001b[38;5;241m=\u001b[39m \u001b[38;5;28mself\u001b[39m\u001b[38;5;241m.\u001b[39mcommand_executor\u001b[38;5;241m.\u001b[39mexecute(driver_command, params)\n\u001b[1;32m    353\u001b[0m \u001b[38;5;28;01mif\u001b[39;00m response:\n\u001b[0;32m--> 354\u001b[0m     \u001b[38;5;28;43mself\u001b[39;49m\u001b[38;5;241;43m.\u001b[39;49m\u001b[43merror_handler\u001b[49m\u001b[38;5;241;43m.\u001b[39;49m\u001b[43mcheck_response\u001b[49m\u001b[43m(\u001b[49m\u001b[43mresponse\u001b[49m\u001b[43m)\u001b[49m\n\u001b[1;32m    355\u001b[0m     response[\u001b[38;5;124m\"\u001b[39m\u001b[38;5;124mvalue\u001b[39m\u001b[38;5;124m\"\u001b[39m] \u001b[38;5;241m=\u001b[39m \u001b[38;5;28mself\u001b[39m\u001b[38;5;241m.\u001b[39m_unwrap_value(response\u001b[38;5;241m.\u001b[39mget(\u001b[38;5;124m\"\u001b[39m\u001b[38;5;124mvalue\u001b[39m\u001b[38;5;124m\"\u001b[39m, \u001b[38;5;28;01mNone\u001b[39;00m))\n\u001b[1;32m    356\u001b[0m     \u001b[38;5;28;01mreturn\u001b[39;00m response\n",
      "File \u001b[0;32m~/Library/Python/3.9/lib/python/site-packages/selenium/webdriver/remote/errorhandler.py:229\u001b[0m, in \u001b[0;36mErrorHandler.check_response\u001b[0;34m(self, response)\u001b[0m\n\u001b[1;32m    227\u001b[0m         alert_text \u001b[38;5;241m=\u001b[39m value[\u001b[38;5;124m\"\u001b[39m\u001b[38;5;124malert\u001b[39m\u001b[38;5;124m\"\u001b[39m]\u001b[38;5;241m.\u001b[39mget(\u001b[38;5;124m\"\u001b[39m\u001b[38;5;124mtext\u001b[39m\u001b[38;5;124m\"\u001b[39m)\n\u001b[1;32m    228\u001b[0m     \u001b[38;5;28;01mraise\u001b[39;00m exception_class(message, screen, stacktrace, alert_text)  \u001b[38;5;66;03m# type: ignore[call-arg]  # mypy is not smart enough here\u001b[39;00m\n\u001b[0;32m--> 229\u001b[0m \u001b[38;5;28;01mraise\u001b[39;00m exception_class(message, screen, stacktrace)\n",
      "\u001b[0;31mElementClickInterceptedException\u001b[0m: Message: element click intercepted: Element is not clickable at point (560, 2097)\n  (Session info: chrome=127.0.6533.89)\nStacktrace:\n0   chromedriver                        0x00000001030c6a0c chromedriver + 4385292\n1   chromedriver                        0x00000001030bf318 chromedriver + 4354840\n2   chromedriver                        0x0000000102cdcb0c chromedriver + 281356\n3   chromedriver                        0x0000000102d24ce0 chromedriver + 576736\n4   chromedriver                        0x0000000102d23284 chromedriver + 569988\n5   chromedriver                        0x0000000102d21414 chromedriver + 562196\n6   chromedriver                        0x0000000102d205b0 chromedriver + 558512\n7   chromedriver                        0x0000000102d15cfc chromedriver + 515324\n8   chromedriver                        0x0000000102d15734 chromedriver + 513844\n9   chromedriver                        0x0000000102d57d24 chromedriver + 785700\n10  chromedriver                        0x0000000102d13eec chromedriver + 507628\n11  chromedriver                        0x0000000102d148c4 chromedriver + 510148\n12  chromedriver                        0x000000010308e3c8 chromedriver + 4154312\n13  chromedriver                        0x0000000103092e2c chromedriver + 4173356\n14  chromedriver                        0x0000000103073f84 chromedriver + 4046724\n15  chromedriver                        0x0000000103093718 chromedriver + 4175640\n16  chromedriver                        0x0000000103066f44 chromedriver + 3993412\n17  chromedriver                        0x00000001030b11a8 chromedriver + 4297128\n18  chromedriver                        0x00000001030b1324 chromedriver + 4297508\n19  chromedriver                        0x00000001030bef10 chromedriver + 4353808\n20  libsystem_pthread.dylib             0x0000000186f722e4 _pthread_start + 136\n21  libsystem_pthread.dylib             0x0000000186f6d0fc thread_start + 8\n"
     ]
    }
   ],
   "source": [
    "checklink,check_route = extract_and_click_routes()"
   ]
  },
  {
   "cell_type": "code",
   "execution_count": 43,
   "metadata": {},
   "outputs": [
    {
     "ename": "NameError",
     "evalue": "name 'checklink' is not defined",
     "output_type": "error",
     "traceback": [
      "\u001b[0;31m---------------------------------------------------------------------------\u001b[0m",
      "\u001b[0;31mNameError\u001b[0m                                 Traceback (most recent call last)",
      "Cell \u001b[0;32mIn[43], line 1\u001b[0m\n\u001b[0;32m----> 1\u001b[0m \u001b[43mchecklink\u001b[49m\n",
      "\u001b[0;31mNameError\u001b[0m: name 'checklink' is not defined"
     ]
    }
   ],
   "source": [
    "checklink"
   ]
  },
  {
   "cell_type": "code",
   "execution_count": 80,
   "metadata": {},
   "outputs": [],
   "source": [
    "def extract_and_click_routes():\n",
    "    # Navigate to the state URL\n",
    "    links=[]\n",
    "    routes=[]\n",
    "    statelinks = [\n",
    "        'https://www.redbus.in/online-booking/apsrtc/?utm_source=rtchometile',\n",
    "        'https://www.redbus.in/online-booking/ksrtc-kerala/?utm_source=rtchometile',\n",
    "    ]\n",
    "    for linkss in statelinks:\n",
    "        driver.get(linkss)\n",
    "        for j in range(5):\n",
    "            try:    \n",
    "                    # Click the first route link\n",
    "                #first_route = statelinks[0] \n",
    "                # first_route_link = driver.find_element(By.XPATH, \".//a[@class='route']\").get_attribute('href')\n",
    "                # first_route_name = driver.find_element(By.XPATH, \".//a[@class='route']\").text\n",
    "\n",
    "                time.sleep(2)\n",
    "                # first_route = statelinks[0]\n",
    "                first_routes = driver.find_elements(By.XPATH, \"//a[@class='route']\")\n",
    "\n",
    "                for href in first_routes:\n",
    "                    d = href.get_attribute(\"href\")\n",
    "                    links.append(d)\n",
    "\n",
    "                for route in first_routes:\n",
    "                    routes.append(route.text)\n",
    "                \n",
    "            except NoSuchElementException:\n",
    "                print(f\"stopped\")\n",
    "            pagination_scroll(j)\n",
    "\n",
    "    return links,routes\n",
    "    "
   ]
  },
  {
   "cell_type": "code",
   "execution_count": 76,
   "metadata": {},
   "outputs": [
    {
     "name": "stderr",
     "output_type": "stream",
     "text": [
      "The chromedriver version (126.0.6478.182) detected in PATH at /usr/local/bin/chromedriver might not be compatible with the detected chrome version (127.0.6533.89); currently, chromedriver 127.0.6533.99 is recommended for chrome 127.*, so it is advised to delete the driver in PATH and retry\n"
     ]
    }
   ],
   "source": [
    "driver = webdriver.Chrome()"
   ]
  },
  {
   "cell_type": "code",
   "execution_count": 82,
   "metadata": {},
   "outputs": [],
   "source": [
    "checklink,checkroute = extract_and_click_routes()"
   ]
  },
  {
   "cell_type": "code",
   "execution_count": 83,
   "metadata": {},
   "outputs": [
    {
     "data": {
      "text/plain": [
       "97"
      ]
     },
     "execution_count": 83,
     "metadata": {},
     "output_type": "execute_result"
    }
   ],
   "source": [
    "len(checklink)"
   ]
  },
  {
   "cell_type": "code",
   "execution_count": 36,
   "metadata": {},
   "outputs": [
    {
     "data": {
      "text/plain": [
       "['https://www.redbus.in/bus-tickets/vijayawada-to-hyderabad',\n",
       " 'https://www.redbus.in/bus-tickets/hyderabad-to-vijayawada',\n",
       " 'https://www.redbus.in/bus-tickets/kakinada-to-visakhapatnam',\n",
       " 'https://www.redbus.in/bus-tickets/visakhapatnam-to-kakinada',\n",
       " 'https://www.redbus.in/bus-tickets/chittoor-andhra-pradesh-to-bangalore',\n",
       " 'https://www.redbus.in/bus-tickets/kadapa-to-bangalore',\n",
       " 'https://www.redbus.in/bus-tickets/ananthapur-to-bangalore',\n",
       " 'https://www.redbus.in/bus-tickets/tirupathi-to-bangalore',\n",
       " 'https://www.redbus.in/bus-tickets/visakhapatnam-to-vijayawada',\n",
       " 'https://www.redbus.in/bus-tickets/ongole-to-hyderabad']"
      ]
     },
     "execution_count": 36,
     "metadata": {},
     "output_type": "execute_result"
    }
   ],
   "source": [
    "links"
   ]
  },
  {
   "cell_type": "code",
   "execution_count": 37,
   "metadata": {},
   "outputs": [
    {
     "data": {
      "text/plain": [
       "['Vijayawada to Hyderabad',\n",
       " 'Hyderabad to Vijayawada',\n",
       " 'Kakinada to Visakhapatnam',\n",
       " 'Visakhapatnam to Kakinada',\n",
       " 'Chittoor (Andhra Pradesh) to Bangalore',\n",
       " 'Kadapa to Bangalore',\n",
       " 'Anantapur (andhra pradesh) to Bangalore',\n",
       " 'Tirupati to Bangalore',\n",
       " 'Visakhapatnam to Vijayawada',\n",
       " 'Ongole to Hyderabad']"
      ]
     },
     "execution_count": 37,
     "metadata": {},
     "output_type": "execute_result"
    }
   ],
   "source": [
    "routes"
   ]
  }
 ],
 "metadata": {
  "kernelspec": {
   "display_name": "Python 3",
   "language": "python",
   "name": "python3"
  },
  "language_info": {
   "codemirror_mode": {
    "name": "ipython",
    "version": 3
   },
   "file_extension": ".py",
   "mimetype": "text/x-python",
   "name": "python",
   "nbconvert_exporter": "python",
   "pygments_lexer": "ipython3",
   "version": "3.9.6"
  }
 },
 "nbformat": 4,
 "nbformat_minor": 2
}
